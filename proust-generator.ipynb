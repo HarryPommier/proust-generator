{
 "cells": [
  {
   "cell_type": "code",
   "execution_count": 1,
   "metadata": {},
   "outputs": [
    {
     "data": {
      "text/plain": [
       "'2.1.0'"
      ]
     },
     "execution_count": 1,
     "metadata": {},
     "output_type": "execute_result"
    }
   ],
   "source": [
    "import os\n",
    "import numpy as np\n",
    "import matplotlib.pyplot as plt\n",
    "from tensorflow.keras.preprocessing.text import Tokenizer\n",
    "from tensorflow.keras.preprocessing.sequence import pad_sequences\n",
    "from tensorflow.keras import regularizers\n",
    "import tensorflow as tf\n",
    "import tensorflow.keras.utils as ku\n",
    "\n",
    "%matplotlib inline\n",
    "\n",
    "tf.__version__"
   ]
  },
  {
   "cell_type": "code",
   "execution_count": 2,
   "metadata": {},
   "outputs": [
    {
     "name": "stdout",
     "output_type": "stream",
     "text": [
      "1 Physical GPUs, 1 Logical GPUs\n"
     ]
    }
   ],
   "source": [
    "gpus = tf.config.experimental.list_physical_devices('GPU')\n",
    "if gpus:\n",
    "  try:\n",
    "    # Currently, memory growth needs to be the same across GPUs\n",
    "    for gpu in gpus:\n",
    "      tf.config.experimental.set_memory_growth(gpu, True)\n",
    "    logical_gpus = tf.config.experimental.list_logical_devices('GPU')\n",
    "    print(len(gpus), \"Physical GPUs,\", len(logical_gpus), \"Logical GPUs\")\n",
    "  except RuntimeError as e:\n",
    "    # Memory growth must be set before GPUs have been initialized\n",
    "    print(e)"
   ]
  },
  {
   "cell_type": "code",
   "execution_count": 3,
   "metadata": {},
   "outputs": [],
   "source": [
    "DATA_DIR = \"data/\"\n",
    "N_BOOKS = 1 # Number of books to read from the database. There are 15 books in the whole database. Adjust with your  computational capacity\n",
    "MAX_SEQUENCE_LEN = 50 # Trunc sentences to the ith word"
   ]
  },
  {
   "cell_type": "code",
   "execution_count": 26,
   "metadata": {},
   "outputs": [
    {
     "name": "stdout",
     "output_type": "stream",
     "text": [
      "Book 1: 2075 sentences\n",
      "First sentence: Longtemps, je me suis couché de bonne heure .\n"
     ]
    }
   ],
   "source": [
    "bookfiles = sorted(os.listdir(DATA_DIR ))[:N_BOOKS]\n",
    "\n",
    "all_sentences = []\n",
    "for i, bookfile in enumerate(bookfiles):\n",
    "    with open(os.path.join(DATA_DIR, bookfile)) as book:\n",
    "        corpus = book.read().split(\"\\n\")\n",
    "        # split into sentences\n",
    "        sentences = []\n",
    "        for item in corpus:\n",
    "            sub_sentences = item.split(\".\")\n",
    "            for sentence in sub_sentences:\n",
    "                sentences.append(sentence.strip())\n",
    "        sentences = np.array(sentences)\n",
    "        # delete empty sentences\n",
    "        sentences = sentences[np.where(sentences != \"\")]\n",
    "        # delete short sentences (<= 3 words)\n",
    "        sentences = np.array([item for item in sentences if len(item.split(\" \")) > 3])\n",
    "        sentences = np.array([item + \" .\" for item in sentences])\n",
    "        for sentence in sentences:\n",
    "            all_sentences.append(sentence)\n",
    "        \n",
    "        print(\"Book {}: {} sentences\".format(i+1, len(sentences)))\n",
    "        print(\"First sentence: {}\".format(sentences[0]))"
   ]
  },
  {
   "cell_type": "code",
   "execution_count": 28,
   "metadata": {},
   "outputs": [
    {
     "name": "stdout",
     "output_type": "stream",
     "text": [
      "4\n"
     ]
    }
   ],
   "source": [
    "tokenizer = Tokenizer(filters='!\"#$%&()*+,-/:;<=>?@[\\\\]^_`{|}~\\t\\n')\n",
    "tokenizer.fit_on_texts(all_sentences)\n",
    "total_words = len(tokenizer.word_index) + 1\n",
    "\n",
    "print(tokenizer.word_index[\".\"])\n",
    "\n",
    "sequences = []\n",
    "# Create input sequences using list of tokens\n",
    "for sentence in all_sentences:\n",
    "    sequence = tokenizer.texts_to_sequences([sentence])[0]\n",
    "    for i in range(1, len(sequence)):\n",
    "        n_gram_sequence = sequence[:i+1]\n",
    "        sequences.append(n_gram_sequence)\n",
    "\n",
    "# Pad sequences\n",
    "sequences = pad_sequences(sequences, maxlen=MAX_SEQUENCE_LEN, padding='pre')\n",
    "\n",
    "# Create predictors and label\n",
    "predictors, labels = sequences[:,:-1], sequences[:,-1]\n",
    "\n",
    "labels = ku.to_categorical(labels, num_classes=total_words)"
   ]
  },
  {
   "cell_type": "code",
   "execution_count": 29,
   "metadata": {},
   "outputs": [
    {
     "name": "stdout",
     "output_type": "stream",
     "text": [
      "Model: \"sequential_1\"\n",
      "_________________________________________________________________\n",
      "Layer (type)                 Output Shape              Param #   \n",
      "=================================================================\n",
      "embedding_1 (Embedding)      (None, 49, 64)            741568    \n",
      "_________________________________________________________________\n",
      "bidirectional_1 (Bidirection (None, 49, 512)           657408    \n",
      "_________________________________________________________________\n",
      "dropout_1 (Dropout)          (None, 49, 512)           0         \n",
      "_________________________________________________________________\n",
      "lstm_3 (LSTM)                (None, 128)               328192    \n",
      "_________________________________________________________________\n",
      "dense_2 (Dense)              (None, 5793)              747297    \n",
      "_________________________________________________________________\n",
      "dense_3 (Dense)              (None, 11587)             67135078  \n",
      "=================================================================\n",
      "Total params: 69,609,543\n",
      "Trainable params: 69,609,543\n",
      "Non-trainable params: 0\n",
      "_________________________________________________________________\n"
     ]
    }
   ],
   "source": [
    "model = tf.keras.Sequential([\n",
    "    tf.keras.layers.Embedding(total_words, 64, input_length=MAX_SEQUENCE_LEN-1),\n",
    "    tf.keras.layers.Bidirectional(\n",
    "        tf.keras.layers.LSTM(256, return_sequences = True)\n",
    "    ),\n",
    "    tf.keras.layers.Dropout(0.2),\n",
    "    tf.keras.layers.LSTM(128),\n",
    "    tf.keras.layers.Dense(total_words/2, activation='relu', kernel_regularizer=regularizers.l2(0.01)),\n",
    "    tf.keras.layers.Dense(total_words, activation='softmax')\n",
    "])\n",
    "model.compile(loss='categorical_crossentropy',optimizer='adam',metrics=['accuracy'])\n",
    "model.summary()"
   ]
  },
  {
   "cell_type": "code",
   "execution_count": 30,
   "metadata": {},
   "outputs": [
    {
     "name": "stdout",
     "output_type": "stream",
     "text": [
      "Train on 87108 samples\n",
      "Epoch 1/100\n",
      "87108/87108 [==============================] - 192s 2ms/sample - loss: 6.9250 - accuracy: 0.0511\n",
      "Epoch 2/100\n",
      "87108/87108 [==============================] - 212s 2ms/sample - loss: 6.4908 - accuracy: 0.0571\n",
      "Epoch 3/100\n",
      "87108/87108 [==============================] - 209s 2ms/sample - loss: 6.3131 - accuracy: 0.0612\n",
      "Epoch 4/100\n",
      "87108/87108 [==============================] - 233s 3ms/sample - loss: 6.1735 - accuracy: 0.0655\n",
      "Epoch 5/100\n",
      "87108/87108 [==============================] - 234s 3ms/sample - loss: 6.0297 - accuracy: 0.0748\n",
      "Epoch 6/100\n",
      "87108/87108 [==============================] - 230s 3ms/sample - loss: 5.8856 - accuracy: 0.0821\n",
      "Epoch 7/100\n",
      "87108/87108 [==============================] - 213s 2ms/sample - loss: 5.7406 - accuracy: 0.0920\n",
      "Epoch 8/100\n",
      "87108/87108 [==============================] - 212s 2ms/sample - loss: 5.6296 - accuracy: 0.0993\n",
      "Epoch 9/100\n",
      "87108/87108 [==============================] - 211s 2ms/sample - loss: 5.5393 - accuracy: 0.1044\n",
      "Epoch 10/100\n",
      "87108/87108 [==============================] - 230s 3ms/sample - loss: 5.4536 - accuracy: 0.1114\n",
      "Epoch 11/100\n",
      "87108/87108 [==============================] - 240s 3ms/sample - loss: 5.3732 - accuracy: 0.1192\n",
      "Epoch 12/100\n",
      "87108/87108 [==============================] - 240s 3ms/sample - loss: 5.2917 - accuracy: 0.1257\n",
      "Epoch 13/100\n",
      "87108/87108 [==============================] - 233s 3ms/sample - loss: 5.2200 - accuracy: 0.1319\n",
      "Epoch 14/100\n",
      "87108/87108 [==============================] - 227s 3ms/sample - loss: 5.1522 - accuracy: 0.1369\n",
      "Epoch 15/100\n",
      "87108/87108 [==============================] - 230s 3ms/sample - loss: 5.0832 - accuracy: 0.1423\n",
      "Epoch 16/100\n",
      "87108/87108 [==============================] - 216s 2ms/sample - loss: 5.0222 - accuracy: 0.1472\n",
      "Epoch 17/100\n",
      "87108/87108 [==============================] - 188s 2ms/sample - loss: 4.9625 - accuracy: 0.1517\n",
      "Epoch 18/100\n",
      "87108/87108 [==============================] - 189s 2ms/sample - loss: 4.9052 - accuracy: 0.1560\n",
      "Epoch 19/100\n",
      "87108/87108 [==============================] - 191s 2ms/sample - loss: 4.8535 - accuracy: 0.1595\n",
      "Epoch 20/100\n",
      "87108/87108 [==============================] - 192s 2ms/sample - loss: 4.7914 - accuracy: 0.1637\n",
      "Epoch 21/100\n",
      "87108/87108 [==============================] - 190s 2ms/sample - loss: 4.7352 - accuracy: 0.1670\n",
      "Epoch 22/100\n",
      "87108/87108 [==============================] - 188s 2ms/sample - loss: 4.6815 - accuracy: 0.1716\n",
      "Epoch 23/100\n",
      "87108/87108 [==============================] - 188s 2ms/sample - loss: 4.6268 - accuracy: 0.1764\n",
      "Epoch 24/100\n",
      "87108/87108 [==============================] - 188s 2ms/sample - loss: 4.5830 - accuracy: 0.1806\n",
      "Epoch 25/100\n",
      "87108/87108 [==============================] - 188s 2ms/sample - loss: 4.5293 - accuracy: 0.1854\n",
      "Epoch 26/100\n",
      "87108/87108 [==============================] - 188s 2ms/sample - loss: 4.4805 - accuracy: 0.1895\n",
      "Epoch 27/100\n",
      "87108/87108 [==============================] - 188s 2ms/sample - loss: 4.4350 - accuracy: 0.1919\n",
      "Epoch 28/100\n",
      "87108/87108 [==============================] - 188s 2ms/sample - loss: 4.3876 - accuracy: 0.1962\n",
      "Epoch 29/100\n",
      "87108/87108 [==============================] - 188s 2ms/sample - loss: 4.3467 - accuracy: 0.2000\n",
      "Epoch 30/100\n",
      "87108/87108 [==============================] - 188s 2ms/sample - loss: 4.3047 - accuracy: 0.2029\n",
      "Epoch 31/100\n",
      "87108/87108 [==============================] - 186s 2ms/sample - loss: 4.2595 - accuracy: 0.2081\n",
      "Epoch 32/100\n",
      "87108/87108 [==============================] - 186s 2ms/sample - loss: 4.2138 - accuracy: 0.2121\n",
      "Epoch 33/100\n",
      "87108/87108 [==============================] - 188s 2ms/sample - loss: 4.1783 - accuracy: 0.2157\n",
      "Epoch 34/100\n",
      "87108/87108 [==============================] - 188s 2ms/sample - loss: 4.1434 - accuracy: 0.2204\n",
      "Epoch 35/100\n",
      "87108/87108 [==============================] - 187s 2ms/sample - loss: 4.1022 - accuracy: 0.2244\n",
      "Epoch 36/100\n",
      "87108/87108 [==============================] - 187s 2ms/sample - loss: 4.0634 - accuracy: 0.2282\n",
      "Epoch 37/100\n",
      "87108/87108 [==============================] - 188s 2ms/sample - loss: 4.0278 - accuracy: 0.2323\n",
      "Epoch 38/100\n",
      "87108/87108 [==============================] - 188s 2ms/sample - loss: 3.9915 - accuracy: 0.2375\n",
      "Epoch 39/100\n",
      "87108/87108 [==============================] - 188s 2ms/sample - loss: 3.9723 - accuracy: 0.2406\n",
      "Epoch 40/100\n",
      "87108/87108 [==============================] - 188s 2ms/sample - loss: 3.9258 - accuracy: 0.2455\n",
      "Epoch 41/100\n",
      "87108/87108 [==============================] - 189s 2ms/sample - loss: 3.8944 - accuracy: 0.2496\n",
      "Epoch 42/100\n",
      "87108/87108 [==============================] - 188s 2ms/sample - loss: 3.8654 - accuracy: 0.2537\n",
      "Epoch 43/100\n",
      "87108/87108 [==============================] - 186s 2ms/sample - loss: 3.8393 - accuracy: 0.2572\n",
      "Epoch 44/100\n",
      "87108/87108 [==============================] - 186s 2ms/sample - loss: 3.7921 - accuracy: 0.2620\n",
      "Epoch 45/100\n",
      "87108/87108 [==============================] - 186s 2ms/sample - loss: 3.7598 - accuracy: 0.2669\n",
      "Epoch 46/100\n",
      "87108/87108 [==============================] - 186s 2ms/sample - loss: 3.7222 - accuracy: 0.2700\n",
      "Epoch 47/100\n",
      "87108/87108 [==============================] - 186s 2ms/sample - loss: 3.6955 - accuracy: 0.2765\n",
      "Epoch 48/100\n",
      "87108/87108 [==============================] - 186s 2ms/sample - loss: 3.6731 - accuracy: 0.2793\n",
      "Epoch 49/100\n",
      "87108/87108 [==============================] - 186s 2ms/sample - loss: 3.6495 - accuracy: 0.2837\n",
      "Epoch 50/100\n",
      "87108/87108 [==============================] - 186s 2ms/sample - loss: 3.6131 - accuracy: 0.2871\n",
      "Epoch 51/100\n",
      "87108/87108 [==============================] - 187s 2ms/sample - loss: 3.5819 - accuracy: 0.2914\n",
      "Epoch 52/100\n",
      "87108/87108 [==============================] - 186s 2ms/sample - loss: 3.5538 - accuracy: 0.2965\n",
      "Epoch 53/100\n",
      "87108/87108 [==============================] - 186s 2ms/sample - loss: 3.5305 - accuracy: 0.2994\n",
      "Epoch 54/100\n",
      "87108/87108 [==============================] - 186s 2ms/sample - loss: 3.5018 - accuracy: 0.3045\n",
      "Epoch 55/100\n",
      "87108/87108 [==============================] - 186s 2ms/sample - loss: 3.4877 - accuracy: 0.3065\n",
      "Epoch 56/100\n",
      "87108/87108 [==============================] - 185s 2ms/sample - loss: 3.4684 - accuracy: 0.3087\n",
      "Epoch 57/100\n",
      "87108/87108 [==============================] - 186s 2ms/sample - loss: 3.4327 - accuracy: 0.3146\n",
      "Epoch 58/100\n",
      "87108/87108 [==============================] - 186s 2ms/sample - loss: 3.4008 - accuracy: 0.3190\n",
      "Epoch 59/100\n",
      "87108/87108 [==============================] - 186s 2ms/sample - loss: 3.3784 - accuracy: 0.3236\n",
      "Epoch 60/100\n",
      "87108/87108 [==============================] - 186s 2ms/sample - loss: 3.3524 - accuracy: 0.3273\n",
      "Epoch 61/100\n",
      "87108/87108 [==============================] - 186s 2ms/sample - loss: 3.3332 - accuracy: 0.3309\n",
      "Epoch 62/100\n",
      "87108/87108 [==============================] - 186s 2ms/sample - loss: 3.3136 - accuracy: 0.3350\n",
      "Epoch 63/100\n",
      "87108/87108 [==============================] - 186s 2ms/sample - loss: 3.2885 - accuracy: 0.3378\n",
      "Epoch 64/100\n",
      "87108/87108 [==============================] - 186s 2ms/sample - loss: 3.2659 - accuracy: 0.3419\n",
      "Epoch 65/100\n",
      "87108/87108 [==============================] - 186s 2ms/sample - loss: 3.2527 - accuracy: 0.3426\n",
      "Epoch 66/100\n",
      "87108/87108 [==============================] - 186s 2ms/sample - loss: 3.2217 - accuracy: 0.3482\n",
      "Epoch 67/100\n",
      "87108/87108 [==============================] - 186s 2ms/sample - loss: 3.1994 - accuracy: 0.3522\n",
      "Epoch 68/100\n",
      "87108/87108 [==============================] - 186s 2ms/sample - loss: 3.1833 - accuracy: 0.3541\n",
      "Epoch 69/100\n",
      "87108/87108 [==============================] - 186s 2ms/sample - loss: 3.1464 - accuracy: 0.3609\n",
      "Epoch 70/100\n",
      "87108/87108 [==============================] - 186s 2ms/sample - loss: 3.1320 - accuracy: 0.3625\n",
      "Epoch 71/100\n",
      "87108/87108 [==============================] - 186s 2ms/sample - loss: 3.1221 - accuracy: 0.3658\n",
      "Epoch 72/100\n",
      "87108/87108 [==============================] - 186s 2ms/sample - loss: 3.0982 - accuracy: 0.3704\n",
      "Epoch 73/100\n",
      "87108/87108 [==============================] - 186s 2ms/sample - loss: 3.0733 - accuracy: 0.3729\n",
      "Epoch 74/100\n",
      "87108/87108 [==============================] - 186s 2ms/sample - loss: 3.0627 - accuracy: 0.3760\n",
      "Epoch 75/100\n"
     ]
    },
    {
     "name": "stdout",
     "output_type": "stream",
     "text": [
      "87108/87108 [==============================] - 186s 2ms/sample - loss: 3.0376 - accuracy: 0.3805\n",
      "Epoch 76/100\n",
      "87108/87108 [==============================] - 185s 2ms/sample - loss: 3.0333 - accuracy: 0.3797\n",
      "Epoch 77/100\n",
      "87108/87108 [==============================] - 186s 2ms/sample - loss: 3.0090 - accuracy: 0.3863\n",
      "Epoch 78/100\n",
      "87108/87108 [==============================] - 186s 2ms/sample - loss: 2.9886 - accuracy: 0.3870\n",
      "Epoch 79/100\n",
      "87108/87108 [==============================] - 186s 2ms/sample - loss: 2.9721 - accuracy: 0.3915\n",
      "Epoch 80/100\n",
      "87108/87108 [==============================] - 185s 2ms/sample - loss: 2.9585 - accuracy: 0.3924\n",
      "Epoch 81/100\n",
      "87108/87108 [==============================] - 186s 2ms/sample - loss: 2.9403 - accuracy: 0.3975\n",
      "Epoch 82/100\n",
      "87108/87108 [==============================] - 186s 2ms/sample - loss: 2.9282 - accuracy: 0.3970\n",
      "Epoch 83/100\n",
      "87108/87108 [==============================] - 186s 2ms/sample - loss: 2.9104 - accuracy: 0.4010\n",
      "Epoch 84/100\n",
      "87108/87108 [==============================] - 186s 2ms/sample - loss: 2.8932 - accuracy: 0.4039\n",
      "Epoch 85/100\n",
      "87108/87108 [==============================] - 186s 2ms/sample - loss: 2.8825 - accuracy: 0.4061\n",
      "Epoch 86/100\n",
      "87108/87108 [==============================] - 186s 2ms/sample - loss: 2.8649 - accuracy: 0.4086\n",
      "Epoch 87/100\n",
      "87108/87108 [==============================] - 186s 2ms/sample - loss: 2.8481 - accuracy: 0.4117\n",
      "Epoch 88/100\n",
      "87108/87108 [==============================] - 186s 2ms/sample - loss: 2.8320 - accuracy: 0.4164\n",
      "Epoch 89/100\n",
      "87108/87108 [==============================] - 186s 2ms/sample - loss: 2.8183 - accuracy: 0.4185\n",
      "Epoch 90/100\n",
      "87108/87108 [==============================] - 186s 2ms/sample - loss: 2.8090 - accuracy: 0.4196\n",
      "Epoch 91/100\n",
      "87108/87108 [==============================] - 186s 2ms/sample - loss: 2.7915 - accuracy: 0.4233\n",
      "Epoch 92/100\n",
      "87108/87108 [==============================] - 186s 2ms/sample - loss: 2.7774 - accuracy: 0.4257\n",
      "Epoch 93/100\n",
      "87108/87108 [==============================] - 186s 2ms/sample - loss: 2.7714 - accuracy: 0.4265\n",
      "Epoch 94/100\n",
      "87108/87108 [==============================] - 186s 2ms/sample - loss: 2.7470 - accuracy: 0.4296\n",
      "Epoch 95/100\n",
      "87108/87108 [==============================] - 185s 2ms/sample - loss: 2.7358 - accuracy: 0.4318\n",
      "Epoch 96/100\n",
      "87108/87108 [==============================] - 186s 2ms/sample - loss: 2.7303 - accuracy: 0.4337\n",
      "Epoch 97/100\n",
      "87108/87108 [==============================] - 186s 2ms/sample - loss: 2.7157 - accuracy: 0.4354 - los\n",
      "Epoch 98/100\n",
      "87108/87108 [==============================] - 186s 2ms/sample - loss: 2.7079 - accuracy: 0.4362\n",
      "Epoch 99/100\n",
      "87108/87108 [==============================] - 186s 2ms/sample - loss: 2.6835 - accuracy: 0.4416\n",
      "Epoch 100/100\n",
      "87108/87108 [==============================] - 186s 2ms/sample - loss: 2.6743 - accuracy: 0.4433\n"
     ]
    }
   ],
   "source": [
    " history = model.fit(predictors, labels, epochs=100, verbose=1)"
   ]
  },
  {
   "cell_type": "code",
   "execution_count": 31,
   "metadata": {},
   "outputs": [
    {
     "data": {
      "image/png": "[encoded data removed]",
      "text/plain": [
       "<Figure size 432x288 with 1 Axes>"
      ]
     },
     "metadata": {
      "needs_background": "light"
     },
     "output_type": "display_data"
    },
    {
     "data": {
      "image/png": "[encoded data removed]",
      "text/plain": [
       "<Figure size 432x288 with 1 Axes>"
      ]
     },
     "metadata": {
      "needs_background": "light"
     },
     "output_type": "display_data"
    }
   ],
   "source": [
    "acc = history.history['accuracy']\n",
    "loss = history.history['loss']\n",
    "\n",
    "epochs = range(len(acc))\n",
    "\n",
    "plt.plot(epochs, acc, 'b', label='Training accuracy')\n",
    "plt.title('Training accuracy')\n",
    "\n",
    "plt.figure()\n",
    "\n",
    "plt.plot(epochs, loss, 'b', label='Training Loss')\n",
    "plt.title('Training loss')\n",
    "plt.legend()\n",
    "\n",
    "plt.show()"
   ]
  },
  {
   "cell_type": "code",
   "execution_count": 36,
   "metadata": {},
   "outputs": [
    {
     "name": "stdout",
     "output_type": "stream",
     "text": [
      "Longtemps je me suis couché tard,  qu’est ce que je n’avais pas eu là.\n"
     ]
    }
   ],
   "source": [
    "# Generate text\n",
    "# Let's see the prediction of the model with this alternative opening sentence...\n",
    "seed_text = \"Longtemps je me suis couché tard, \"\n",
    "  \n",
    "output_word = \"\"\n",
    "while output_word != \".\":\n",
    "    token_list = tokenizer.texts_to_sequences([seed_text])[0]\n",
    "    token_list = pad_sequences([token_list], maxlen=MAX_SEQUENCE_LEN-1, padding='pre')\n",
    "    predicted = model.predict_classes(token_list, verbose=0)\n",
    "    output_word = \"\"\n",
    "    for word, index in tokenizer.word_index.items():\n",
    "        if index == predicted:\n",
    "            output_word = word\n",
    "            break\n",
    "    if output_word != \".\":\n",
    "        seed_text += \" \" + output_word\n",
    "    else:\n",
    "        seed_text += output_word\n",
    "print(seed_text)"
   ]
  }
 ],
 "metadata": {
  "kernelspec": {
   "display_name": "Python 3",
   "language": "python",
   "name": "python3"
  },
  "language_info": {
   "codemirror_mode": {
    "name": "ipython",
    "version": 3
   },
   "file_extension": ".py",
   "mimetype": "text/x-python",
   "name": "python",
   "nbconvert_exporter": "python",
   "pygments_lexer": "ipython3",
   "version": "3.7.7"
  }
 },
 "nbformat": 4,
 "nbformat_minor": 4
}
